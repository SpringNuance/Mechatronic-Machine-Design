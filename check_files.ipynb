{
 "cells": [
  {
   "cell_type": "code",
   "execution_count": 1,
   "metadata": {},
   "outputs": [
    {
     "name": "stdout",
     "output_type": "stream",
     "text": [
      "No files larger than 100 MB found.\n"
     ]
    }
   ],
   "source": [
    "import os\n",
    "\n",
    "def find_large_files(root_dir, min_size_mb):\n",
    "    min_size_bytes = min_size_mb * 1024 * 1024  # Convert MB to bytes\n",
    "    large_files = []\n",
    "    \n",
    "    for root, dirs, files in os.walk(root_dir):\n",
    "        for file in files:\n",
    "            file_path = os.path.join(root, file)\n",
    "            try:\n",
    "                file_size = os.path.getsize(file_path)\n",
    "                if file_size > min_size_bytes:\n",
    "                    size_mb = file_size / (1024 * 1024)\n",
    "                    large_files.append((file_path, size_mb))\n",
    "            except (OSError, PermissionError) as e:\n",
    "                print(f\"Error accessing {file_path}: {e}\")\n",
    "    \n",
    "    return large_files\n",
    "\n",
    "if __name__ == \"__main__\":\n",
    "    current_dir = os.getcwd()  # Get current working directory\n",
    "    min_size = 100  # Minimum size in MB\n",
    "    results = find_large_files(current_dir, min_size)\n",
    "\n",
    "    if results:\n",
    "        print(f\"Files larger than {min_size} MB:\")\n",
    "        for path, size in results:\n",
    "            print(f\"{path} - {size:.2f} MB\")\n",
    "    else:\n",
    "        print(\"No files larger than 100 MB found.\")"
   ]
  },
  {
   "cell_type": "markdown",
   "metadata": {},
   "source": []
  }
 ],
 "metadata": {
  "kernelspec": {
   "display_name": "Python 3",
   "language": "python",
   "name": "python3"
  },
  "language_info": {
   "codemirror_mode": {
    "name": "ipython",
    "version": 3
   },
   "file_extension": ".py",
   "mimetype": "text/x-python",
   "name": "python",
   "nbconvert_exporter": "python",
   "pygments_lexer": "ipython3",
   "version": "3.12.9"
  }
 },
 "nbformat": 4,
 "nbformat_minor": 2
}
